{
 "cells": [
  {
   "cell_type": "markdown",
   "metadata": {},
   "source": [
    "<h1>Caesarean Section Prediction Using Machine Learning</h1>\n"
   ]
  },
  {
   "cell_type": "markdown",
   "metadata": {},
   "source": [
    "# I) Introduction"
   ]
  },
  {
   "cell_type": "markdown",
   "metadata": {},
   "source": [
    "Caesarean Section surgeries are known to be life-saving for both the mother and the child. However, they are not recommended if vaginal delivery is possible and doesn’t jeopardize the health of the foetus nor his mother. A study has shown that the risk of a woman/a child dying from cesarean section is so much higher than that from vaginal delivery. This confirms how important it is for medical entities to choose whether or not to perform C-section, a decision as costly and hazardous as any other medical surgery.\n",
    "We aim with this project to use machine learning methods and techniques to predict which decision is best.We explain further in this report the methods we’ve implemented as well as some data processing techniques."
   ]
  },
  {
   "cell_type": "code",
   "execution_count": 1,
   "metadata": {},
   "outputs": [],
   "source": [
    "#Imports\n",
    "\n",
    "import csv\n",
    "import wfdb\n",
    "import pandas as pd\n",
    "import matplotlib.pyplot as plt\n",
    "import seaborn as sns\n",
    "import sklearn\n",
    "from sklearn.neighbors import KNeighborsClassifier\n",
    "from sklearn.model_selection import train_test_split\n",
    "from imblearn.over_sampling import SMOTE\n",
    "from imblearn.under_sampling import NearMiss\n",
    "from sklearn.linear_model import LogisticRegression\n",
    "from sklearn.neural_network import MLPClassifier\n",
    "from sklearn.ensemble import RandomForestClassifier\n",
    "from sklearn import datasets\n",
    "from sklearn.model_selection import train_test_split\n",
    "from sklearn.feature_selection import SelectFromModel\n",
    "from sklearn.metrics import accuracy_score\n",
    "from sklearn import metrics\n",
    "from sklearn import svm\n",
    "from sklearn.model_selection import cross_val_score"
   ]
  },
  {
   "cell_type": "markdown",
   "metadata": {},
   "source": [
    "# II)Data Preprocessing"
   ]
  },
  {
   "cell_type": "markdown",
   "metadata": {},
   "source": [
    " We will first start with transforming the 552 \"*.hea\" files into a unique .csv file containing all our Dataset.\n"
   ]
  },
  {
   "cell_type": "code",
   "execution_count": 2,
   "metadata": {},
   "outputs": [],
   "source": [
    "with open('dataset.csv','w',newline='') as f:\n",
    "   \n",
    "    thewriter=csv.writer(f)    \n",
    "    thewriter.writerow(['pH','BDecF','pCO2','BE','Apgar1','Apgar5','Gest. weeks','Weight','Sex','Age','Gravidity',\n",
    "    'Parity', 'Diabetes','Hypertension','Preeclampsia','Liq.praecox','Pyrexia', 'Meconium','Deliv. type'])\n",
    "\n",
    "#Manual selection of the values for each attributes and for each sample\n",
    "    \n",
    "    for i in range(1001,1507):\n",
    "        \n",
    "        ch=str(i)\n",
    "    \n",
    "        sig, fields = wfdb.srdsamp('/home/rostom/Downloads/ctu-chb-intrapartum-cardiotocography-database-1.0.0/'\n",
    "        +ch, sampfrom=800)\n",
    "        temp=fields['comments']\n",
    "    \n",
    "        listt=[temp[2][4:],temp[3][6:],temp[4][6:],temp[5][8:],temp[6][8:],temp[7][8:],temp[16][12:],\n",
    "        temp[17][12:],temp[18][6:],temp[20][6:],temp[21][11:],temp[22][11:],temp[23][10:],temp[24][12:],\n",
    "        temp[25][12:],temp[26][12:],temp[27][10:],temp[28][9:],temp[36][11:]]\n",
    "        \n",
    "        for j in range(len(listt)):            \n",
    "                listt[j]=float(listt[j])\n",
    "        \n",
    "        thewriter.writerow(listt)\n",
    "    \n",
    "    for i in range(2001,2047):\n",
    "        ch=str(i)\n",
    "    \n",
    "        sig, fields = wfdb.srdsamp('/home/rostom/Downloads/ctu-chb-intrapartum-cardiotocography-database-1.0.0/'\n",
    "        +ch, sampfrom=800)\n",
    "        temp=fields['comments']\n",
    "    \n",
    "        listt=[temp[2][4:],temp[3][6:],temp[4][6:],temp[5][8:],temp[6][8:],temp[7][8:],temp[16][12:],\n",
    "        temp[17][12:],temp[18][6:],temp[20][6:],temp[21][11:],temp[22][11:],temp[23][10:],temp[24][12:],\n",
    "        temp[25][12:],temp[26][12:],temp[27][10:],temp[28][9:],temp[36][11:]]\n",
    "        \n",
    "        for j in range(len(listt)):           \n",
    "                listt[j]=float(listt[j])\n",
    "        \n",
    "        thewriter.writerow(listt)\n",
    "   \n",
    "    \n",
    "    "
   ]
  },
  {
   "cell_type": "code",
   "execution_count": 3,
   "metadata": {},
   "outputs": [
    {
     "data": {
      "text/html": [
       "<div>\n",
       "<style scoped>\n",
       "    .dataframe tbody tr th:only-of-type {\n",
       "        vertical-align: middle;\n",
       "    }\n",
       "\n",
       "    .dataframe tbody tr th {\n",
       "        vertical-align: top;\n",
       "    }\n",
       "\n",
       "    .dataframe thead th {\n",
       "        text-align: right;\n",
       "    }\n",
       "</style>\n",
       "<table border=\"1\" class=\"dataframe\">\n",
       "  <thead>\n",
       "    <tr style=\"text-align: right;\">\n",
       "      <th></th>\n",
       "      <th>pH</th>\n",
       "      <th>BDecF</th>\n",
       "      <th>pCO2</th>\n",
       "      <th>BE</th>\n",
       "      <th>Apgar1</th>\n",
       "      <th>Apgar5</th>\n",
       "      <th>Gest. weeks</th>\n",
       "      <th>Weight</th>\n",
       "      <th>Sex</th>\n",
       "      <th>Age</th>\n",
       "      <th>Gravidity</th>\n",
       "      <th>Parity</th>\n",
       "      <th>Diabetes</th>\n",
       "      <th>Hypertension</th>\n",
       "      <th>Preeclampsia</th>\n",
       "      <th>Liq.praecox</th>\n",
       "      <th>Pyrexia</th>\n",
       "      <th>Meconium</th>\n",
       "      <th>Deliv. type</th>\n",
       "    </tr>\n",
       "  </thead>\n",
       "  <tbody>\n",
       "    <tr>\n",
       "      <th>0</th>\n",
       "      <td>7.14</td>\n",
       "      <td>8.14</td>\n",
       "      <td>7.7</td>\n",
       "      <td>-10.5</td>\n",
       "      <td>6.0</td>\n",
       "      <td>8.0</td>\n",
       "      <td>37.0</td>\n",
       "      <td>2660.0</td>\n",
       "      <td>2.0</td>\n",
       "      <td>32.0</td>\n",
       "      <td>1.0</td>\n",
       "      <td>0.0</td>\n",
       "      <td>1.0</td>\n",
       "      <td>0.0</td>\n",
       "      <td>0.0</td>\n",
       "      <td>1.0</td>\n",
       "      <td>0.0</td>\n",
       "      <td>0.0</td>\n",
       "      <td>1.0</td>\n",
       "    </tr>\n",
       "    <tr>\n",
       "      <th>1</th>\n",
       "      <td>7.00</td>\n",
       "      <td>7.92</td>\n",
       "      <td>12.0</td>\n",
       "      <td>-12.0</td>\n",
       "      <td>8.0</td>\n",
       "      <td>8.0</td>\n",
       "      <td>41.0</td>\n",
       "      <td>2900.0</td>\n",
       "      <td>2.0</td>\n",
       "      <td>23.0</td>\n",
       "      <td>1.0</td>\n",
       "      <td>0.0</td>\n",
       "      <td>0.0</td>\n",
       "      <td>0.0</td>\n",
       "      <td>0.0</td>\n",
       "      <td>0.0</td>\n",
       "      <td>0.0</td>\n",
       "      <td>1.0</td>\n",
       "      <td>1.0</td>\n",
       "    </tr>\n",
       "    <tr>\n",
       "      <th>2</th>\n",
       "      <td>7.20</td>\n",
       "      <td>3.03</td>\n",
       "      <td>8.3</td>\n",
       "      <td>-5.6</td>\n",
       "      <td>7.0</td>\n",
       "      <td>9.0</td>\n",
       "      <td>40.0</td>\n",
       "      <td>3770.0</td>\n",
       "      <td>1.0</td>\n",
       "      <td>31.0</td>\n",
       "      <td>1.0</td>\n",
       "      <td>0.0</td>\n",
       "      <td>0.0</td>\n",
       "      <td>0.0</td>\n",
       "      <td>0.0</td>\n",
       "      <td>1.0</td>\n",
       "      <td>0.0</td>\n",
       "      <td>0.0</td>\n",
       "      <td>1.0</td>\n",
       "    </tr>\n",
       "    <tr>\n",
       "      <th>3</th>\n",
       "      <td>7.30</td>\n",
       "      <td>5.19</td>\n",
       "      <td>5.5</td>\n",
       "      <td>-6.4</td>\n",
       "      <td>8.0</td>\n",
       "      <td>9.0</td>\n",
       "      <td>41.0</td>\n",
       "      <td>3370.0</td>\n",
       "      <td>1.0</td>\n",
       "      <td>36.0</td>\n",
       "      <td>1.0</td>\n",
       "      <td>0.0</td>\n",
       "      <td>0.0</td>\n",
       "      <td>0.0</td>\n",
       "      <td>0.0</td>\n",
       "      <td>0.0</td>\n",
       "      <td>0.0</td>\n",
       "      <td>1.0</td>\n",
       "      <td>1.0</td>\n",
       "    </tr>\n",
       "    <tr>\n",
       "      <th>4</th>\n",
       "      <td>7.30</td>\n",
       "      <td>4.52</td>\n",
       "      <td>5.7</td>\n",
       "      <td>-5.8</td>\n",
       "      <td>9.0</td>\n",
       "      <td>10.0</td>\n",
       "      <td>41.0</td>\n",
       "      <td>3550.0</td>\n",
       "      <td>2.0</td>\n",
       "      <td>28.0</td>\n",
       "      <td>1.0</td>\n",
       "      <td>0.0</td>\n",
       "      <td>0.0</td>\n",
       "      <td>0.0</td>\n",
       "      <td>0.0</td>\n",
       "      <td>0.0</td>\n",
       "      <td>0.0</td>\n",
       "      <td>0.0</td>\n",
       "      <td>1.0</td>\n",
       "    </tr>\n",
       "  </tbody>\n",
       "</table>\n",
       "</div>"
      ],
      "text/plain": [
       "     pH  BDecF  pCO2    BE  Apgar1  Apgar5  Gest. weeks  Weight  Sex   Age  \\\n",
       "0  7.14   8.14   7.7 -10.5     6.0     8.0         37.0  2660.0  2.0  32.0   \n",
       "1  7.00   7.92  12.0 -12.0     8.0     8.0         41.0  2900.0  2.0  23.0   \n",
       "2  7.20   3.03   8.3  -5.6     7.0     9.0         40.0  3770.0  1.0  31.0   \n",
       "3  7.30   5.19   5.5  -6.4     8.0     9.0         41.0  3370.0  1.0  36.0   \n",
       "4  7.30   4.52   5.7  -5.8     9.0    10.0         41.0  3550.0  2.0  28.0   \n",
       "\n",
       "   Gravidity  Parity  Diabetes  Hypertension  Preeclampsia  Liq.praecox  \\\n",
       "0        1.0     0.0       1.0           0.0           0.0          1.0   \n",
       "1        1.0     0.0       0.0           0.0           0.0          0.0   \n",
       "2        1.0     0.0       0.0           0.0           0.0          1.0   \n",
       "3        1.0     0.0       0.0           0.0           0.0          0.0   \n",
       "4        1.0     0.0       0.0           0.0           0.0          0.0   \n",
       "\n",
       "   Pyrexia  Meconium  Deliv. type  \n",
       "0      0.0       0.0          1.0  \n",
       "1      0.0       1.0          1.0  \n",
       "2      0.0       0.0          1.0  \n",
       "3      0.0       1.0          1.0  \n",
       "4      0.0       0.0          1.0  "
      ]
     },
     "execution_count": 3,
     "metadata": {},
     "output_type": "execute_result"
    }
   ],
   "source": [
    "#DataFrame creation\n",
    "\n",
    "data=pd.read_csv('/home/rostom/Downloads/dataset.csv')\n",
    "data.head(5)\n",
    "\n",
    "\n"
   ]
  },
  {
   "cell_type": "markdown",
   "metadata": {},
   "source": [
    "# 1) Dealing with NaN values"
   ]
  },
  {
   "cell_type": "markdown",
   "metadata": {},
   "source": [
    "\n",
    "For different reasons, many samples of our DataSet contain NaN values for some critical features. That's why we are considering two possible solutions:\n",
    " - Removing sbjects with NaN values\n",
    " - Imputation : replacing missing values with subtitute values.\n"
   ]
  },
  {
   "cell_type": "code",
   "execution_count": 4,
   "metadata": {},
   "outputs": [],
   "source": [
    "### removing subjects with nan values\n",
    "\n",
    "lines = list()\n",
    "\n",
    "with open('/home/rostom/Downloads/dataset.csv', 'r') as readFile:\n",
    "\n",
    "    reader = csv.reader(readFile)\n",
    "\n",
    "    for row in reader:\n",
    "        test=True\n",
    "        for field in row:        \n",
    "\n",
    "            if field =='nan': \n",
    "                test=False\n",
    "        if test==True:\n",
    "            lines.append(row)\n",
    "        \n",
    "\n",
    "with open('/home/rostom/Downloads/dataset1.csv', 'w') as writeFile:\n",
    "\n",
    "    writer = csv.writer(writeFile)\n",
    "    writer.writerows(lines)"
   ]
  },
  {
   "cell_type": "code",
   "execution_count": 5,
   "metadata": {},
   "outputs": [],
   "source": [
    "#Creation of the corresponding DataFrame\n",
    "\n",
    "data1=pd.read_csv('/home/rostom/Downloads/dataset1.csv')\n",
    "\n"
   ]
  },
  {
   "cell_type": "markdown",
   "metadata": {},
   "source": [
    "\n",
    "Before the imputation, we decided to go deeper into the correlation between features in order to have a better idea about the most appropriate imputation that can be done:\n"
   ]
  },
  {
   "cell_type": "code",
   "execution_count": 6,
   "metadata": {},
   "outputs": [
    {
     "data": {
      "text/plain": [
       "<AxesSubplot:title={'center':'Correlation of Features'}>"
      ]
     },
     "execution_count": 6,
     "metadata": {},
     "output_type": "execute_result"
    },
    {
     "data": {
      "image/png": "[encoded data removed]",
      "text/plain": [
       "<Figure size 2304x720 with 2 Axes>"
      ]
     },
     "metadata": {
      "needs_background": "light"
     },
     "output_type": "display_data"
    }
   ],
   "source": [
    "#Matrix of Correlation of Features\n",
    "\n",
    "data_selected = data[['pH','BDecF','pCO2','BE','Apgar1','Apgar5','Gest. weeks','Weight','Sex','Age','Gravidity',\n",
    "    'Parity', 'Diabetes','Hypertension','Preeclampsia','Liq.praecox','Pyrexia', 'Meconium','Deliv. type']].copy()\n",
    "colormap = plt.cm.RdBu\n",
    "plt.figure(figsize=(32,10))\n",
    "plt.title('Correlation of Features', y=1.05, size=15)\n",
    "sns.heatmap(data_selected.corr(),linewidths=0.1,vmax=1.0, \n",
    "            square=True, cmap=colormap, linecolor='white', annot=True)"
   ]
  },
  {
   "cell_type": "markdown",
   "metadata": {},
   "source": [
    "The most features with NaN values in out Dataset are the 'pH', 'BDecF' and 'BE'. These features have a good correlation factor with the Delivery Type (-0.12, 0.17 and -0.17 respectively). In order to respect the correlation between these features, we decided to replace the NaN values of these features with the median of the values of that feature BUT for the same Delivery Type.\n",
    "For example : if a women who got a Ceasarean delivery is missing the 'BE' feature, we will replace it with the median of all the 'BE' values of all the women who got a Ceasarean delivery."
   ]
  },
  {
   "cell_type": "code",
   "execution_count": 7,
   "metadata": {},
   "outputs": [],
   "source": [
    "#Imputation\n",
    "lines=list()\n",
    "\n",
    "with open('/home/rostom/Downloads/dataset.csv', 'r') as readFile:\n",
    "    \n",
    "    data_vaginal=data.head(506)\n",
    "    data_ceasarean=data1[506:]\n",
    "    \n",
    "    \n",
    "    reader = csv.reader(readFile)\n",
    "    list_attributes=['pH','BDecF','pCO2','BE','Apgar1','Apgar5','Gest. weeks','Weight','Sex','Age',\n",
    "    'Gravidity','Parity', 'Diabetes','Hypertension','Preeclampsia','Liq.praecox','Pyrexia', 'Meconium','Deliv. type']\n",
    "    j=0\n",
    "    for row in reader:\n",
    "        j+=1\n",
    "        test=True\n",
    "        i=-1\n",
    "        for field in row:\n",
    "            i+=1                 \n",
    "            if field =='nan':\n",
    "                if j<=506:\n",
    "                    row[row.index(field)]=data_vaginal[list_attributes[i]].median()\n",
    "                else:\n",
    "                    row[row.index(field)]=data_ceasarean[list_attributes[i]].median()\n",
    "                \n",
    "        lines.append(row)\n",
    "        \n",
    "\n",
    "with open('/home/rostom/Downloads/dataset2.csv', 'w') as writeFile:\n",
    "\n",
    "    writer = csv.writer(writeFile)\n",
    "    writer.writerows(lines)"
   ]
  },
  {
   "cell_type": "code",
   "execution_count": 8,
   "metadata": {},
   "outputs": [],
   "source": [
    "#Creation of the corresponding DataFrame\n",
    "\n",
    "data2=pd.read_csv('/home/rostom/Downloads/dataset2.csv')\n",
    "\n"
   ]
  },
  {
   "cell_type": "markdown",
   "metadata": {},
   "source": [
    "For the rest of the project, we will work with this version of the DataSet (NaN values replaced by the median values of the corresponding classes)."
   ]
  },
  {
   "cell_type": "markdown",
   "metadata": {},
   "source": [
    "# 2) Dealing with imbalanced Data"
   ]
  },
  {
   "cell_type": "code",
   "execution_count": 9,
   "metadata": {},
   "outputs": [],
   "source": [
    "#Repartition of Input and Output\n",
    "\n",
    "X=data2.drop(['Deliv. type'],axis=1)\n",
    "Y=data2['Deliv. type'].copy()\n"
   ]
  },
  {
   "cell_type": "markdown",
   "metadata": {},
   "source": [
    "Our Dataset contains 552 samples : 506 of them represent the Ceasarean Delivery class (>91%) and only 44 of them represent the Vaginal Delivery class (<8%). This imbalance may cause insatisfactory predictions after the training. In order to avoid such risks, we are considering 3 possible ways to deal with the problem:\n",
    "   - Work with the original Imbalanced DataSet.\n",
    "   - Oversample the original Imbalanced Dataset.\n",
    "   - Undersample the original Imbalanced Dataset."
   ]
  },
  {
   "cell_type": "code",
   "execution_count": 10,
   "metadata": {},
   "outputs": [],
   "source": [
    "#Oversampling\n",
    "\n",
    "\n",
    "oversample = SMOTE()\n",
    "X1, Y1 = oversample.fit_resample(X, Y)\n",
    "\n",
    "#Undersampling\n",
    "\n",
    "\n",
    "undersample = NearMiss(version=1)\n",
    "X2, Y2 = undersample.fit_resample(X, Y)\n",
    "\n",
    "\n"
   ]
  },
  {
   "cell_type": "code",
   "execution_count": 11,
   "metadata": {},
   "outputs": [
    {
     "data": {
      "image/png": "[encoded data removed]",
      "text/plain": [
       "<Figure size 432x288 with 1 Axes>"
      ]
     },
     "metadata": {
      "needs_background": "light"
     },
     "output_type": "display_data"
    },
    {
     "data": {
      "image/png": "[encoded data removed]",
      "text/plain": [
       "<Figure size 432x288 with 1 Axes>"
      ]
     },
     "metadata": {
      "needs_background": "light"
     },
     "output_type": "display_data"
    },
    {
     "data": {
      "image/png": "[encoded data removed]",
      "text/plain": [
       "<Figure size 432x288 with 1 Axes>"
      ]
     },
     "metadata": {
      "needs_background": "light"
     },
     "output_type": "display_data"
    }
   ],
   "source": [
    "#Plotting of the repartition of the 3 Datasets \n",
    "\n",
    "x1=list(X1['BDecF'])[:507]\n",
    "x2=list(X1['BDecF'])[507:]\n",
    "y1=list(X1['pH'])[:507]\n",
    "y2=list(X1['pH'])[507:]\n",
    "\n",
    "plt.xlabel('BDecF')\n",
    "plt.ylabel('pH')\n",
    "plt.title('OverSampling with SMOTE')\n",
    "plt.plot(x1, y1, 'bo')\n",
    "plt.plot(x2, y2, 'ro')\n",
    "plt.show()\n",
    "\n",
    "\n",
    "x1=list(X2['BDecF'])[:46]\n",
    "x2=list(X2['BDecF'])[46:]\n",
    "y1=list(X2['pH'])[:46]\n",
    "y2=list(X2['pH'])[46:]\n",
    "\n",
    "plt.xlabel('BDecF')\n",
    "plt.ylabel('pH')\n",
    "plt.title('Undersampling with NearMiss')\n",
    "plt.plot(x1, y1, 'bo')\n",
    "plt.plot(x2, y2, 'ro')\n",
    "plt.show()\n",
    "\n",
    "\n",
    "\n",
    "x1=list(data2['BDecF'])[:507]\n",
    "x2=list(data2['BDecF'])[507:]\n",
    "y1=list(data2['pH'])[:507]\n",
    "y2=list(data2['pH'])[507:]\n",
    "\n",
    "plt.xlabel('BDecF')\n",
    "plt.ylabel('pH')\n",
    "plt.title('Original DataSet')\n",
    "plt.plot(x1, y1, 'bo')\n",
    "plt.plot(x2, y2, 'ro')\n",
    "plt.show()"
   ]
  },
  {
   "cell_type": "markdown",
   "metadata": {},
   "source": [
    "# 3) Selection of the final Dataset"
   ]
  },
  {
   "cell_type": "markdown",
   "metadata": {},
   "source": [
    "We are going to train a simple linear classifier with the 3 different Datasets in order to keep only the Dataset giving the best Model. We will train a Logistic Regression Classifier."
   ]
  },
  {
   "cell_type": "code",
   "execution_count": 12,
   "metadata": {},
   "outputs": [],
   "source": [
    "#Split to training and testing sets for the 3 Datasets\n",
    "X_train, X_test, y_train, y_test = train_test_split(X,Y, test_size=0.2) \n",
    "X1_train, X1_test, y1_train, y1_test = train_test_split(X1,Y1, test_size=0.2) \n",
    "X2_train, X2_test, y2_train, y2_test = train_test_split(X2,Y2, test_size=0.2) "
   ]
  },
  {
   "cell_type": "code",
   "execution_count": 13,
   "metadata": {},
   "outputs": [
    {
     "name": "stdout",
     "output_type": "stream",
     "text": [
      " Accuracy for Imbalanced Dataset testing :  0.918918918918919 \n",
      " Accuracy for OverSampled Dataset testing :  0.6502463054187192 \n",
      " Accuracy for UnderSampled Dataset testing :  0.631578947368421 \n",
      "\n"
     ]
    },
    {
     "name": "stderr",
     "output_type": "stream",
     "text": [
      "/home/rostom/.local/lib/python3.8/site-packages/sklearn/linear_model/_logistic.py:762: ConvergenceWarning: lbfgs failed to converge (status=1):\n",
      "STOP: TOTAL NO. of ITERATIONS REACHED LIMIT.\n",
      "\n",
      "Increase the number of iterations (max_iter) or scale the data as shown in:\n",
      "    https://scikit-learn.org/stable/modules/preprocessing.html\n",
      "Please also refer to the documentation for alternative solver options:\n",
      "    https://scikit-learn.org/stable/modules/linear_model.html#logistic-regression\n",
      "  n_iter_i = _check_optimize_result(\n",
      "/home/rostom/.local/lib/python3.8/site-packages/sklearn/linear_model/_logistic.py:762: ConvergenceWarning: lbfgs failed to converge (status=1):\n",
      "STOP: TOTAL NO. of ITERATIONS REACHED LIMIT.\n",
      "\n",
      "Increase the number of iterations (max_iter) or scale the data as shown in:\n",
      "    https://scikit-learn.org/stable/modules/preprocessing.html\n",
      "Please also refer to the documentation for alternative solver options:\n",
      "    https://scikit-learn.org/stable/modules/linear_model.html#logistic-regression\n",
      "  n_iter_i = _check_optimize_result(\n",
      "/home/rostom/.local/lib/python3.8/site-packages/sklearn/linear_model/_logistic.py:762: ConvergenceWarning: lbfgs failed to converge (status=1):\n",
      "STOP: TOTAL NO. of ITERATIONS REACHED LIMIT.\n",
      "\n",
      "Increase the number of iterations (max_iter) or scale the data as shown in:\n",
      "    https://scikit-learn.org/stable/modules/preprocessing.html\n",
      "Please also refer to the documentation for alternative solver options:\n",
      "    https://scikit-learn.org/stable/modules/linear_model.html#logistic-regression\n",
      "  n_iter_i = _check_optimize_result(\n"
     ]
    }
   ],
   "source": [
    "#logistic regression over Imbalanced Dataset\n",
    "\n",
    "regr=LogisticRegression()\n",
    "regr.fit(X_train,y_train)\n",
    "Y_hat=regr.predict(X_test)\n",
    "Imbalanced= metrics.accuracy_score(y_test,Y_hat)\n",
    "\n",
    "#logistic regression over OverSampled Dataset\n",
    "\n",
    "regr=LogisticRegression()\n",
    "regr.fit(X1_train,y1_train)\n",
    "Y_hat=regr.predict(X1_test)\n",
    "Oversampled= metrics.accuracy_score(y1_test,Y_hat)\n",
    "\n",
    "\n",
    "#logistic regression over UnderSampled Dataset\n",
    "\n",
    "regr=LogisticRegression()\n",
    "regr.fit(X2_train,y2_train)\n",
    "Y_hat=regr.predict(X2_test)\n",
    "Undersampled= metrics.accuracy_score(y2_test,Y_hat)\n",
    "\n",
    "print (\" Accuracy for Imbalanced Dataset testing : \",Imbalanced, '\\n',\n",
    "       \"Accuracy for OverSampled Dataset testing : \",Oversampled, '\\n',\n",
    "       \"Accuracy for UnderSampled Dataset testing : \", Undersampled, '\\n')\n"
   ]
  },
  {
   "cell_type": "markdown",
   "metadata": {},
   "source": [
    "As attractive as it might be, the high accuracy of the the imbalanced DataSet testing is not significative as the majority samples of testing set comes from the majoritary class.\n",
    "\n",
    "That's why we choose to work with the OverSampled Dataset for the rest of the project.\n"
   ]
  },
  {
   "cell_type": "markdown",
   "metadata": {},
   "source": [
    "# FEATURE SELECTION ON BALANCED DATA"
   ]
  },
  {
   "cell_type": "markdown",
   "metadata": {},
   "source": [
    "Feature Selection is an important key to make sure that there are no actual features who have no to bad influence on our models. This is why we're using the following Random Forrest algorithm to figure out estimades weights and decide on which features to keep and which to leave."
   ]
  },
  {
   "cell_type": "code",
   "execution_count": 13,
   "metadata": {},
   "outputs": [
    {
     "data": {
      "text/html": [
       "<div>\n",
       "<style scoped>\n",
       "    .dataframe tbody tr th:only-of-type {\n",
       "        vertical-align: middle;\n",
       "    }\n",
       "\n",
       "    .dataframe tbody tr th {\n",
       "        vertical-align: top;\n",
       "    }\n",
       "\n",
       "    .dataframe thead th {\n",
       "        text-align: right;\n",
       "    }\n",
       "</style>\n",
       "<table border=\"1\" class=\"dataframe\">\n",
       "  <thead>\n",
       "    <tr style=\"text-align: right;\">\n",
       "      <th></th>\n",
       "      <th>pH</th>\n",
       "      <th>BDecF</th>\n",
       "      <th>pCO2</th>\n",
       "      <th>BE</th>\n",
       "      <th>Apgar1</th>\n",
       "      <th>Apgar5</th>\n",
       "      <th>Gest. weeks</th>\n",
       "      <th>Weight</th>\n",
       "      <th>Sex</th>\n",
       "      <th>Age</th>\n",
       "      <th>Gravidity</th>\n",
       "      <th>Parity</th>\n",
       "      <th>Diabetes</th>\n",
       "      <th>Hypertension</th>\n",
       "      <th>Preeclampsia</th>\n",
       "      <th>Liq.praecox</th>\n",
       "      <th>Pyrexia</th>\n",
       "      <th>Meconium</th>\n",
       "    </tr>\n",
       "  </thead>\n",
       "  <tbody>\n",
       "    <tr>\n",
       "      <th>count</th>\n",
       "      <td>1012.000000</td>\n",
       "      <td>1012.000000</td>\n",
       "      <td>1012.000000</td>\n",
       "      <td>1012.000000</td>\n",
       "      <td>1012.000000</td>\n",
       "      <td>1012.000000</td>\n",
       "      <td>1012.000000</td>\n",
       "      <td>1012.000000</td>\n",
       "      <td>1012.000000</td>\n",
       "      <td>1012.000000</td>\n",
       "      <td>1012.000000</td>\n",
       "      <td>1012.000000</td>\n",
       "      <td>1012.000000</td>\n",
       "      <td>1012.000000</td>\n",
       "      <td>1012.000000</td>\n",
       "      <td>1012.000000</td>\n",
       "      <td>1012.000000</td>\n",
       "      <td>1012.000000</td>\n",
       "    </tr>\n",
       "    <tr>\n",
       "      <th>mean</th>\n",
       "      <td>7.215442</td>\n",
       "      <td>5.411035</td>\n",
       "      <td>6.995913</td>\n",
       "      <td>-7.181241</td>\n",
       "      <td>8.204543</td>\n",
       "      <td>8.964567</td>\n",
       "      <td>40.093288</td>\n",
       "      <td>3451.942191</td>\n",
       "      <td>1.459768</td>\n",
       "      <td>29.949574</td>\n",
       "      <td>1.366927</td>\n",
       "      <td>0.358092</td>\n",
       "      <td>0.085189</td>\n",
       "      <td>0.065706</td>\n",
       "      <td>0.032366</td>\n",
       "      <td>0.194327</td>\n",
       "      <td>0.014832</td>\n",
       "      <td>0.123247</td>\n",
       "    </tr>\n",
       "    <tr>\n",
       "      <th>std</th>\n",
       "      <td>0.113894</td>\n",
       "      <td>5.050839</td>\n",
       "      <td>1.671483</td>\n",
       "      <td>5.255835</td>\n",
       "      <td>1.737330</td>\n",
       "      <td>1.209570</td>\n",
       "      <td>1.037869</td>\n",
       "      <td>474.177752</td>\n",
       "      <td>0.457652</td>\n",
       "      <td>4.254952</td>\n",
       "      <td>0.868193</td>\n",
       "      <td>0.614413</td>\n",
       "      <td>0.260737</td>\n",
       "      <td>0.234540</td>\n",
       "      <td>0.164210</td>\n",
       "      <td>0.376929</td>\n",
       "      <td>0.108519</td>\n",
       "      <td>0.297443</td>\n",
       "    </tr>\n",
       "    <tr>\n",
       "      <th>min</th>\n",
       "      <td>6.850000</td>\n",
       "      <td>-3.400000</td>\n",
       "      <td>0.700000</td>\n",
       "      <td>-26.800000</td>\n",
       "      <td>1.000000</td>\n",
       "      <td>4.000000</td>\n",
       "      <td>37.000000</td>\n",
       "      <td>1970.000000</td>\n",
       "      <td>1.000000</td>\n",
       "      <td>18.000000</td>\n",
       "      <td>1.000000</td>\n",
       "      <td>0.000000</td>\n",
       "      <td>0.000000</td>\n",
       "      <td>0.000000</td>\n",
       "      <td>0.000000</td>\n",
       "      <td>0.000000</td>\n",
       "      <td>0.000000</td>\n",
       "      <td>0.000000</td>\n",
       "    </tr>\n",
       "    <tr>\n",
       "      <th>25%</th>\n",
       "      <td>7.140144</td>\n",
       "      <td>2.242740</td>\n",
       "      <td>6.000000</td>\n",
       "      <td>-9.100000</td>\n",
       "      <td>8.000000</td>\n",
       "      <td>8.515761</td>\n",
       "      <td>39.458960</td>\n",
       "      <td>3080.000000</td>\n",
       "      <td>1.000000</td>\n",
       "      <td>27.000000</td>\n",
       "      <td>1.000000</td>\n",
       "      <td>0.000000</td>\n",
       "      <td>0.000000</td>\n",
       "      <td>0.000000</td>\n",
       "      <td>0.000000</td>\n",
       "      <td>0.000000</td>\n",
       "      <td>0.000000</td>\n",
       "      <td>0.000000</td>\n",
       "    </tr>\n",
       "    <tr>\n",
       "      <th>50%</th>\n",
       "      <td>7.250000</td>\n",
       "      <td>3.995000</td>\n",
       "      <td>6.950000</td>\n",
       "      <td>-5.500000</td>\n",
       "      <td>9.000000</td>\n",
       "      <td>9.000000</td>\n",
       "      <td>40.000000</td>\n",
       "      <td>3520.000000</td>\n",
       "      <td>1.351352</td>\n",
       "      <td>30.000000</td>\n",
       "      <td>1.000000</td>\n",
       "      <td>0.000000</td>\n",
       "      <td>0.000000</td>\n",
       "      <td>0.000000</td>\n",
       "      <td>0.000000</td>\n",
       "      <td>0.000000</td>\n",
       "      <td>0.000000</td>\n",
       "      <td>0.000000</td>\n",
       "    </tr>\n",
       "    <tr>\n",
       "      <th>75%</th>\n",
       "      <td>7.300000</td>\n",
       "      <td>6.810000</td>\n",
       "      <td>7.845616</td>\n",
       "      <td>-3.737417</td>\n",
       "      <td>9.000000</td>\n",
       "      <td>10.000000</td>\n",
       "      <td>41.000000</td>\n",
       "      <td>3750.000000</td>\n",
       "      <td>2.000000</td>\n",
       "      <td>33.000000</td>\n",
       "      <td>1.291367</td>\n",
       "      <td>0.811902</td>\n",
       "      <td>0.000000</td>\n",
       "      <td>0.000000</td>\n",
       "      <td>0.000000</td>\n",
       "      <td>0.000000</td>\n",
       "      <td>0.000000</td>\n",
       "      <td>0.000000</td>\n",
       "    </tr>\n",
       "    <tr>\n",
       "      <th>max</th>\n",
       "      <td>7.470000</td>\n",
       "      <td>26.110000</td>\n",
       "      <td>12.300000</td>\n",
       "      <td>-0.200000</td>\n",
       "      <td>10.000000</td>\n",
       "      <td>10.000000</td>\n",
       "      <td>43.000000</td>\n",
       "      <td>4750.000000</td>\n",
       "      <td>2.000000</td>\n",
       "      <td>46.000000</td>\n",
       "      <td>11.000000</td>\n",
       "      <td>7.000000</td>\n",
       "      <td>1.000000</td>\n",
       "      <td>1.000000</td>\n",
       "      <td>1.000000</td>\n",
       "      <td>1.000000</td>\n",
       "      <td>1.000000</td>\n",
       "      <td>1.000000</td>\n",
       "    </tr>\n",
       "  </tbody>\n",
       "</table>\n",
       "</div>"
      ],
      "text/plain": [
       "                pH        BDecF         pCO2           BE       Apgar1  \\\n",
       "count  1012.000000  1012.000000  1012.000000  1012.000000  1012.000000   \n",
       "mean      7.215442     5.411035     6.995913    -7.181241     8.204543   \n",
       "std       0.113894     5.050839     1.671483     5.255835     1.737330   \n",
       "min       6.850000    -3.400000     0.700000   -26.800000     1.000000   \n",
       "25%       7.140144     2.242740     6.000000    -9.100000     8.000000   \n",
       "50%       7.250000     3.995000     6.950000    -5.500000     9.000000   \n",
       "75%       7.300000     6.810000     7.845616    -3.737417     9.000000   \n",
       "max       7.470000    26.110000    12.300000    -0.200000    10.000000   \n",
       "\n",
       "            Apgar5  Gest. weeks       Weight          Sex          Age  \\\n",
       "count  1012.000000  1012.000000  1012.000000  1012.000000  1012.000000   \n",
       "mean      8.964567    40.093288  3451.942191     1.459768    29.949574   \n",
       "std       1.209570     1.037869   474.177752     0.457652     4.254952   \n",
       "min       4.000000    37.000000  1970.000000     1.000000    18.000000   \n",
       "25%       8.515761    39.458960  3080.000000     1.000000    27.000000   \n",
       "50%       9.000000    40.000000  3520.000000     1.351352    30.000000   \n",
       "75%      10.000000    41.000000  3750.000000     2.000000    33.000000   \n",
       "max      10.000000    43.000000  4750.000000     2.000000    46.000000   \n",
       "\n",
       "         Gravidity       Parity     Diabetes  Hypertension  Preeclampsia  \\\n",
       "count  1012.000000  1012.000000  1012.000000   1012.000000   1012.000000   \n",
       "mean      1.366927     0.358092     0.085189      0.065706      0.032366   \n",
       "std       0.868193     0.614413     0.260737      0.234540      0.164210   \n",
       "min       1.000000     0.000000     0.000000      0.000000      0.000000   \n",
       "25%       1.000000     0.000000     0.000000      0.000000      0.000000   \n",
       "50%       1.000000     0.000000     0.000000      0.000000      0.000000   \n",
       "75%       1.291367     0.811902     0.000000      0.000000      0.000000   \n",
       "max      11.000000     7.000000     1.000000      1.000000      1.000000   \n",
       "\n",
       "       Liq.praecox      Pyrexia     Meconium  \n",
       "count  1012.000000  1012.000000  1012.000000  \n",
       "mean      0.194327     0.014832     0.123247  \n",
       "std       0.376929     0.108519     0.297443  \n",
       "min       0.000000     0.000000     0.000000  \n",
       "25%       0.000000     0.000000     0.000000  \n",
       "50%       0.000000     0.000000     0.000000  \n",
       "75%       0.000000     0.000000     0.000000  \n",
       "max       1.000000     1.000000     1.000000  "
      ]
     },
     "execution_count": 13,
     "metadata": {},
     "output_type": "execute_result"
    }
   ],
   "source": [
    "#We are working with the oversampled DATA after imputation\n",
    "\n",
    "X1.describe()"
   ]
  },
  {
   "cell_type": "code",
   "execution_count": 14,
   "metadata": {},
   "outputs": [],
   "source": [
    "# Split the data into 20% test and 80% training\n",
    "X_train, X_test, y_train, y_test = train_test_split(X1, Y1, test_size=0.2, random_state=0)\n"
   ]
  },
  {
   "cell_type": "code",
   "execution_count": 37,
   "metadata": {},
   "outputs": [
    {
     "name": "stdout",
     "output_type": "stream",
     "text": [
      "('pH', 0.0527189098271289)\n",
      "('BDecF', 0.07454725921114237)\n",
      "('pCO2', 0.04585408106456947)\n",
      "('BE', 0.08986615025382376)\n",
      "('Apgar1', 0.08200791130203716)\n",
      "('Apgar5', 0.0852868595019779)\n",
      "('Gest. weeks', 0.062265484292465076)\n",
      "('Weight', 0.09737866757160468)\n",
      "('Sex', 0.09638074284681176)\n",
      "('Age', 0.060311732435255394)\n",
      "('Gravidity', 0.028311098859303923)\n",
      "('Parity', 0.06385361651705995)\n",
      "('Diabetes', 0.018560556716067766)\n",
      "('Hypertension', 0.005243277331625471)\n",
      "('Preeclampsia', 0.0046031439448749115)\n",
      "('Liq.praecox', 0.10104003440382393)\n",
      "('Pyrexia', 0.001972516266775959)\n",
      "('Meconium', 0.029797957653651605)\n"
     ]
    }
   ],
   "source": [
    "# Create a random forest classifier\n",
    "clf = RandomForestClassifier(n_estimators=10000, random_state=0, n_jobs=-1)\n",
    "\n",
    "# Train the classifier\n",
    "clf.fit(X_train, y_train)\n",
    "\n",
    "# Print the name and gini importance of each feature\n",
    "features=['pH','BDecF','pCO2','BE','Apgar1','Apgar5','Gest. weeks','Weight','Sex','Age','Gravidity',\n",
    "          'Parity', 'Diabetes','Hypertension','Preeclampsia','Liq.praecox','Pyrexia', 'Meconium','Deliv. type']\n",
    "\n",
    "for feature in zip(features, clf.feature_importances_):\n",
    "    print(feature)"
   ]
  },
  {
   "cell_type": "code",
   "execution_count": 49,
   "metadata": {},
   "outputs": [
    {
     "data": {
      "text/plain": [
       "0.9556650246305419"
      ]
     },
     "execution_count": 49,
     "metadata": {},
     "output_type": "execute_result"
    }
   ],
   "source": [
    "# Apply The Full Featured Classifier To The Test Data\n",
    "y_pred = clf.predict(X_test)\n",
    "\n",
    "# View The Accuracy Of Our Full Feature (19 Features) Model\n",
    "accuracy_score(y_test, y_pred)"
   ]
  },
  {
   "cell_type": "code",
   "execution_count": 52,
   "metadata": {},
   "outputs": [
    {
     "data": {
      "text/plain": [
       "SelectFromModel(estimator=RandomForestClassifier(n_estimators=10000, n_jobs=-1,\n",
       "                                                 random_state=0),\n",
       "                threshold=0.085)"
      ]
     },
     "execution_count": 52,
     "metadata": {},
     "output_type": "execute_result"
    }
   ],
   "source": [
    "# Create a selector object that will use the random forest classifier to identify\n",
    "# features that have an importance of more than 0.1\n",
    "sfm = SelectFromModel(clf, threshold=0.085)\n",
    "\n",
    "# Train the selector\n",
    "sfm.fit(X_train, y_train)"
   ]
  },
  {
   "cell_type": "code",
   "execution_count": 53,
   "metadata": {},
   "outputs": [
    {
     "name": "stdout",
     "output_type": "stream",
     "text": [
      "BE\n",
      "Apgar5\n",
      "Weight\n",
      "Sex\n",
      "Liq.praecox\n"
     ]
    }
   ],
   "source": [
    "# Print the names of the most important features\n",
    "for feature_list_index in sfm.get_support(indices=True):\n",
    "    print(features[feature_list_index])\n",
    "X_important_train = sfm.transform(X_train)\n",
    "X_important_test = sfm.transform(X_test)"
   ]
  },
  {
   "cell_type": "code",
   "execution_count": 55,
   "metadata": {},
   "outputs": [
    {
     "data": {
      "text/plain": [
       "0.9261083743842364"
      ]
     },
     "execution_count": 55,
     "metadata": {},
     "output_type": "execute_result"
    }
   ],
   "source": [
    "# Create a new random forest classifier for the most important features\n",
    "clf_important = RandomForestClassifier(n_estimators=10000, random_state=0, n_jobs=-1)\n",
    "\n",
    "# Train the new classifier on the new dataset containing the most important features\n",
    "clf_important.fit(X_important_train, y_train)\n",
    "# Apply The Full Featured Classifier To The Test Data\n",
    "y_important_pred = clf_important.predict(X_important_test)\n",
    "\n",
    "# View The Accuracy Of Our Limited Feature (5 Features) Model\n",
    "accuracy_score(y_test, y_important_pred)"
   ]
  },
  {
   "cell_type": "markdown",
   "metadata": {},
   "source": [
    "CONCLUSION: The top 5 features (BE, Apgar5 , Weight, Sex, Liq.praecox.) are the ones that define the highest accuracy possible after features selection.\n",
    "When we tried to work with less than 5 features, the accuracy becomes less than 0.9.\n",
    "Adding other features doesn't affect the accuracy at all in a negative way.\n",
    "IMPORTANT : for the rest of the work, we decided to work with the top 5 features (the ones with the most important weights) that are the following:\n",
    "pH\n",
    "Age\n",
    "Pyrexia\n",
    "Apgar1\n",
    "Sex"
   ]
  },
  {
   "cell_type": "code",
   "execution_count": 16,
   "metadata": {},
   "outputs": [
    {
     "data": {
      "text/html": [
       "<div>\n",
       "<style scoped>\n",
       "    .dataframe tbody tr th:only-of-type {\n",
       "        vertical-align: middle;\n",
       "    }\n",
       "\n",
       "    .dataframe tbody tr th {\n",
       "        vertical-align: top;\n",
       "    }\n",
       "\n",
       "    .dataframe thead th {\n",
       "        text-align: right;\n",
       "    }\n",
       "</style>\n",
       "<table border=\"1\" class=\"dataframe\">\n",
       "  <thead>\n",
       "    <tr style=\"text-align: right;\">\n",
       "      <th></th>\n",
       "      <th>BE</th>\n",
       "      <th>Apgar5</th>\n",
       "      <th>Gest. weeks</th>\n",
       "      <th>Weight</th>\n",
       "      <th>Sex</th>\n",
       "    </tr>\n",
       "  </thead>\n",
       "  <tbody>\n",
       "    <tr>\n",
       "      <th>count</th>\n",
       "      <td>1012.000000</td>\n",
       "      <td>1012.000000</td>\n",
       "      <td>1012.000000</td>\n",
       "      <td>1012.000000</td>\n",
       "      <td>1012.000000</td>\n",
       "    </tr>\n",
       "    <tr>\n",
       "      <th>mean</th>\n",
       "      <td>-7.181241</td>\n",
       "      <td>8.964567</td>\n",
       "      <td>40.093288</td>\n",
       "      <td>3451.942191</td>\n",
       "      <td>1.459768</td>\n",
       "    </tr>\n",
       "    <tr>\n",
       "      <th>std</th>\n",
       "      <td>5.255835</td>\n",
       "      <td>1.209570</td>\n",
       "      <td>1.037869</td>\n",
       "      <td>474.177752</td>\n",
       "      <td>0.457652</td>\n",
       "    </tr>\n",
       "    <tr>\n",
       "      <th>min</th>\n",
       "      <td>-26.800000</td>\n",
       "      <td>4.000000</td>\n",
       "      <td>37.000000</td>\n",
       "      <td>1970.000000</td>\n",
       "      <td>1.000000</td>\n",
       "    </tr>\n",
       "    <tr>\n",
       "      <th>25%</th>\n",
       "      <td>-9.100000</td>\n",
       "      <td>8.515761</td>\n",
       "      <td>39.458960</td>\n",
       "      <td>3080.000000</td>\n",
       "      <td>1.000000</td>\n",
       "    </tr>\n",
       "    <tr>\n",
       "      <th>50%</th>\n",
       "      <td>-5.500000</td>\n",
       "      <td>9.000000</td>\n",
       "      <td>40.000000</td>\n",
       "      <td>3520.000000</td>\n",
       "      <td>1.351352</td>\n",
       "    </tr>\n",
       "    <tr>\n",
       "      <th>75%</th>\n",
       "      <td>-3.737417</td>\n",
       "      <td>10.000000</td>\n",
       "      <td>41.000000</td>\n",
       "      <td>3750.000000</td>\n",
       "      <td>2.000000</td>\n",
       "    </tr>\n",
       "    <tr>\n",
       "      <th>max</th>\n",
       "      <td>-0.200000</td>\n",
       "      <td>10.000000</td>\n",
       "      <td>43.000000</td>\n",
       "      <td>4750.000000</td>\n",
       "      <td>2.000000</td>\n",
       "    </tr>\n",
       "  </tbody>\n",
       "</table>\n",
       "</div>"
      ],
      "text/plain": [
       "                BE       Apgar5  Gest. weeks       Weight          Sex\n",
       "count  1012.000000  1012.000000  1012.000000  1012.000000  1012.000000\n",
       "mean     -7.181241     8.964567    40.093288  3451.942191     1.459768\n",
       "std       5.255835     1.209570     1.037869   474.177752     0.457652\n",
       "min     -26.800000     4.000000    37.000000  1970.000000     1.000000\n",
       "25%      -9.100000     8.515761    39.458960  3080.000000     1.000000\n",
       "50%      -5.500000     9.000000    40.000000  3520.000000     1.351352\n",
       "75%      -3.737417    10.000000    41.000000  3750.000000     2.000000\n",
       "max      -0.200000    10.000000    43.000000  4750.000000     2.000000"
      ]
     },
     "execution_count": 16,
     "metadata": {},
     "output_type": "execute_result"
    }
   ],
   "source": [
    "#dropping the non necessary features\n",
    "\n",
    "X1_final=X1.drop(['pH','BDecF','pCO2','Apgar1','Age','Gravidity',\n",
    "    'Parity', 'Diabetes','Hypertension','Preeclampsia','Liq.praecox','Pyrexia', 'Meconium'], axis=1)\n",
    "\n",
    "X1_final.describe()"
   ]
  },
  {
   "cell_type": "code",
   "execution_count": 17,
   "metadata": {},
   "outputs": [],
   "source": [
    "x_train, x_test, y_train, y_test = train_test_split(X1, Y1, test_size=0.3, random_state=0)"
   ]
  },
  {
   "cell_type": "markdown",
   "metadata": {},
   "source": [
    "We will be using the above parameters in our following implementations."
   ]
  },
  {
   "cell_type": "markdown",
   "metadata": {},
   "source": [
    "# Training Models"
   ]
  },
  {
   "cell_type": "markdown",
   "metadata": {},
   "source": [
    "## 1) KNN"
   ]
  },
  {
   "cell_type": "code",
   "execution_count": 131,
   "metadata": {},
   "outputs": [
    {
     "data": {
      "text/plain": [
       "0.8157894736842105"
      ]
     },
     "execution_count": 131,
     "metadata": {},
     "output_type": "execute_result"
    }
   ],
   "source": [
    "#training a K nearest negihbours model\n",
    "neighbor=sklearn.neighbors.KNeighborsClassifier(n_neighbors=3) # we tried with many values with K but got the best \n",
    "                                                               #accuracy with k=3 \n",
    "neighbor.fit(x_train,y_train)\n",
    "Y_hat=neighbor.predict(x_test)\n",
    "metrics.accuracy_score(y_test,Y_hat)"
   ]
  },
  {
   "cell_type": "markdown",
   "metadata": {},
   "source": [
    "### Cross Validation"
   ]
  },
  {
   "cell_type": "markdown",
   "metadata": {},
   "source": [
    "In this section we implement the cross validation method for the sake of comparing the different models in the end. We first try with k=5"
   ]
  },
  {
   "cell_type": "code",
   "execution_count": 109,
   "metadata": {},
   "outputs": [
    {
     "name": "stdout",
     "output_type": "stream",
     "text": [
      "[0.78817734 0.79802956 0.74257426 0.76237624 0.78712871]\n"
     ]
    }
   ],
   "source": [
    "KNN_scores = cross_val_score(neighbor, X1_final, Y1, cv=5)\n",
    "print(KNN_scores)"
   ]
  },
  {
   "cell_type": "code",
   "execution_count": 105,
   "metadata": {},
   "outputs": [
    {
     "name": "stdout",
     "output_type": "stream",
     "text": [
      "0.78 average accuracy with a standard deviation of 0.02\n"
     ]
    }
   ],
   "source": [
    "#We calculate the average accuracy as well ad the standart deviation\n",
    "print(\"%0.2f average accuracy with a standard deviation of %0.2f\" % (KNN_scores.mean(), KNN_scores.std()))"
   ]
  },
  {
   "cell_type": "code",
   "execution_count": 110,
   "metadata": {},
   "outputs": [
    {
     "name": "stdout",
     "output_type": "stream",
     "text": [
      "[0.85714286 0.71428571 0.80952381 0.9047619  0.80952381 0.71428571\n",
      " 0.80952381 0.76190476 0.80952381 0.9047619  0.80952381 0.80952381\n",
      " 0.7        0.8        0.85       0.8        0.9        0.8\n",
      " 0.8        0.7        0.75       0.85       0.85       0.7\n",
      " 0.7        0.65       0.6        1.         0.7        0.7\n",
      " 0.85       0.7        0.8        0.7        0.6        0.9\n",
      " 0.8        0.95       0.8        0.85       0.8        0.95\n",
      " 0.75       0.85       0.75       0.75       0.8        0.7\n",
      " 0.75       0.7       ]\n"
     ]
    }
   ],
   "source": [
    "#Now we try with k=50\n",
    "KNN_scores = cross_val_score(neighbor,X1_final, Y1, cv=50)\n",
    "print(KNN_scores)"
   ]
  },
  {
   "cell_type": "code",
   "execution_count": 111,
   "metadata": {},
   "outputs": [
    {
     "name": "stdout",
     "output_type": "stream",
     "text": [
      "0.79 average accuracy with a standard deviation of 0.09\n"
     ]
    }
   ],
   "source": [
    "#We calculate the average accuracy as well ad the standart deviation\n",
    "print(\"%0.2f average accuracy with a standard deviation of %0.2f\" % (KNN_scores.mean(), KNN_scores.std()))"
   ]
  },
  {
   "cell_type": "markdown",
   "metadata": {},
   "source": [
    "## 2) Neural Network"
   ]
  },
  {
   "cell_type": "code",
   "execution_count": 133,
   "metadata": {},
   "outputs": [
    {
     "data": {
      "text/plain": [
       "0.5953947368421053"
      ]
     },
     "execution_count": 133,
     "metadata": {},
     "output_type": "execute_result"
    }
   ],
   "source": [
    "#neural network\n",
    "\n",
    "mlp=MLPClassifier(hidden_layer_sizes=(9,9,9),alpha=1e-7,max_iter=2000)\n",
    "mlp.fit(x_train,y_train)\n",
    "Y_hat=mlp.predict(x_test)\n",
    "metrics.accuracy_score(y_test,Y_hat)"
   ]
  },
  {
   "cell_type": "markdown",
   "metadata": {},
   "source": [
    "### Cross Validation"
   ]
  },
  {
   "cell_type": "code",
   "execution_count": 141,
   "metadata": {},
   "outputs": [
    {
     "name": "stdout",
     "output_type": "stream",
     "text": [
      "[0.54187192 0.49261084 0.48019802 0.51980198 0.5       ]\n",
      "0.51 average accuracy with a standard deviation of 0.02\n"
     ]
    }
   ],
   "source": [
    "#k=5\n",
    "NN_scores = cross_val_score(mlp, X1_final, Y1, cv=5)\n",
    "print(NN_scores)\n",
    "#We calculate the average accuracy as well ad the standart deviation\n",
    "print(\"%0.2f average accuracy with a standard deviation of %0.2f\" % (NN_scores.mean(), NN_scores.std()))"
   ]
  },
  {
   "cell_type": "code",
   "execution_count": 142,
   "metadata": {},
   "outputs": [
    {
     "name": "stdout",
     "output_type": "stream",
     "text": [
      "[0.47619048 0.52380952 0.42857143 0.66666667 0.47619048 0.38095238\n",
      " 0.28571429 0.76190476 0.47619048 0.47619048 0.47619048 0.38095238\n",
      " 0.45       0.45       0.55       0.5        0.5        0.5\n",
      " 0.5        0.5        0.5        0.5        0.5        0.4\n",
      " 0.4        0.45       0.45       0.7        0.45       0.5\n",
      " 0.6        0.5        0.5        0.6        0.45       0.4\n",
      " 0.5        0.4        0.3        0.4        0.5        0.5\n",
      " 0.55       0.35       0.5        0.5        0.45       0.45\n",
      " 0.5        0.6       ]\n",
      "0.48 average accuracy with a standard deviation of 0.09\n"
     ]
    }
   ],
   "source": [
    "#k=50\n",
    "NN_scores = cross_val_score(mlp, X1_final,Y1, cv=50)\n",
    "print(NN_scores)\n",
    "#We calculate the average accuracy as well ad the standart deviation\n",
    "print(\"%0.2f average accuracy with a standard deviation of %0.2f\" % (NN_scores.mean(), NN_scores.std()))"
   ]
  },
  {
   "cell_type": "markdown",
   "metadata": {},
   "source": [
    "## 3) Support Vector Machine"
   ]
  },
  {
   "cell_type": "code",
   "execution_count": 18,
   "metadata": {},
   "outputs": [
    {
     "data": {
      "text/plain": [
       "0.6348684210526315"
      ]
     },
     "execution_count": 18,
     "metadata": {},
     "output_type": "execute_result"
    }
   ],
   "source": [
    "\n",
    "clf = svm.SVC(kernel='linear', C=1).fit(x_train, y_train)\n",
    "clf.score(x_test, y_test)"
   ]
  },
  {
   "cell_type": "markdown",
   "metadata": {},
   "source": [
    "### Cross Validation"
   ]
  },
  {
   "cell_type": "markdown",
   "metadata": {},
   "source": [
    "In this section, we use cross validation with our model. For k times, we split our dataset into a training set and a testing test randomly. This allows us to avoid overfitting.\n",
    "First, we start with k=5."
   ]
  },
  {
   "cell_type": "code",
   "execution_count": 19,
   "metadata": {},
   "outputs": [
    {
     "name": "stdout",
     "output_type": "stream",
     "text": [
      "[0.5270936  0.56650246 0.6039604  0.56930693 0.52970297]\n"
     ]
    }
   ],
   "source": [
    "from sklearn.model_selection import cross_val_score\n",
    "clf = svm.SVC(kernel='linear', C=1, random_state=42)\n",
    "scores = cross_val_score(clf, X1_final, Y1, cv=5)\n",
    "print(scores)"
   ]
  },
  {
   "cell_type": "code",
   "execution_count": 20,
   "metadata": {},
   "outputs": [
    {
     "name": "stdout",
     "output_type": "stream",
     "text": [
      "0.56 average accuracy with a standard deviation of 0.03\n"
     ]
    }
   ],
   "source": [
    "#We calculate the average accuracy as well ad the standart deviation\n",
    "print(\"%0.2f average accuracy with a standard deviation of %0.2f\" % (scores.mean(), scores.std()))"
   ]
  },
  {
   "cell_type": "markdown",
   "metadata": {},
   "source": [
    "Now, let's try with a bigger k.\n",
    "k=50"
   ]
  },
  {
   "cell_type": "code",
   "execution_count": null,
   "metadata": {},
   "outputs": [],
   "source": [
    "from sklearn.model_selection import cross_val_score\n",
    "clf = svm.SVC(kernel='linear', C=1, random_state=42)\n",
    "scores = cross_val_score(clf, X1_final, Y1, cv=50)\n",
    "print(scores)"
   ]
  },
  {
   "cell_type": "code",
   "execution_count": null,
   "metadata": {},
   "outputs": [],
   "source": [
    "#We calculate the average accuracy as well ad the standart deviation\n",
    "print(\"%0.2f average accuracy with a standard deviation of %0.2f\" % (scores.mean(), scores.std()))"
   ]
  },
  {
   "cell_type": "markdown",
   "metadata": {},
   "source": [
    "## 4) Cross validation comparison:"
   ]
  },
  {
   "cell_type": "code",
   "execution_count": 5,
   "metadata": {},
   "outputs": [],
   "source": [
    "names=[\"KNN\",\"Neural Network\", \"SVM\"]\n",
    "\n",
    "#results=[crossvalidation_scores_KNN, crossvalidation_scores_NN, crossvalidation_scores_SVM]\n",
    "Cro\n",
    "results=[[0.78817734, 0.79802956, 0.74257426, 0.76237624, 0.78712871], [0.54187192, 0.49261084, 0.48019802, 0.51980198, 0.5], [0.5270936,0.56650246, 0.6039604,  0.56930693, 0.52970297]]"
   ]
  },
  {
   "cell_type": "code",
   "execution_count": 14,
   "metadata": {},
   "outputs": [
    {
     "data": {
      "image/png": "[encoded data removed]",
      "text/plain": [
       "<Figure size 432x288 with 1 Axes>"
      ]
     },
     "metadata": {
      "needs_background": "light"
     },
     "output_type": "display_data"
    }
   ],
   "source": [
    "#Boxplot of different models\n",
    "\n",
    "fig = plt.figure()\n",
    "fig.suptitle('Models Comparison')\n",
    "ax = fig.add_subplot(111)\n",
    "plt.boxplot(results)\n",
    "ax.set_xticklabels(names)\n",
    "plt.show()"
   ]
  }
 ],
 "metadata": {
  "kernelspec": {
   "display_name": "Python 3",
   "language": "python",
   "name": "python3"
  },
  "language_info": {
   "codemirror_mode": {
    "name": "ipython",
    "version": 3
   },
   "file_extension": ".py",
   "mimetype": "text/x-python",
   "name": "python",
   "nbconvert_exporter": "python",
   "pygments_lexer": "ipython3",
   "version": "3.8.5"
  }
 },
 "nbformat": 4,
 "nbformat_minor": 4
}
